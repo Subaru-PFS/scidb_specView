{
 "cells": [
  {
   "cell_type": "code",
   "execution_count": 1,
   "metadata": {},
   "outputs": [
    {
     "name": "stdout",
     "output_type": "stream",
     "text": [
      "[( 380.   ,  1.1917765 , 1.371453  , 0)\n",
      " ( 380.066,  0.08681077, 1.3637594 , 0)\n",
      " ( 380.132,  2.3243673 , 1.3572452 , 0) ...\n",
      " (1259.766,  0.01511777, 0.01479324, 0)\n",
      " (1259.844,  0.07412014, 0.01478262, 0)\n",
      " (1259.922, -0.0522496 , 0.01477574, 0)]\n"
     ]
    },
    {
     "name": "stderr",
     "output_type": "stream",
     "text": [
      "D:\\ManuWork\\PFS\\SciScript-Python-plotly\\SpectrumViewer\\CoaddObj.py:16: RuntimeWarning:\n",
      "\n",
      "overflow encountered in power\n",
      "\n"
     ]
    }
   ],
   "source": [
    "import SpectrumViewer.mvcViewer as mvc\n",
    "\n",
    "fileName = 'SpectrumViewer/example_lite.fits'\n",
    "#fileName = 'SpectrumViewer/example_pfsObject.fits'\n",
    "fileSource = 'SDSS'\n",
    "mvc.window_view(fileName,fileSource, residual = True, other =True)"
   ]
  },
  {
   "cell_type": "code",
   "execution_count": 8,
   "metadata": {},
   "outputs": [
    {
     "name": "stdout",
     "output_type": "stream",
     "text": [
      "Help on function window_view in module SpectrumViewer.mvcViewer:\n",
      "\n",
      "window_view(filename, filesource, skyline=False, flux=True, model=True, residual=False, emission=False, absorption=False, ae=False, other=False)\n",
      "    #Set the bool value to be true for those information you are interested:\n",
      "    #ae means absorption or emission line, other means undetermined line\n",
      "\n"
     ]
    }
   ],
   "source": [
    "help(mvc.window_view)"
   ]
  },
  {
   "cell_type": "code",
   "execution_count": 3,
   "metadata": {},
   "outputs": [
    {
     "data": {
      "text/plain": [
       "True"
      ]
     },
     "execution_count": 3,
     "metadata": {},
     "output_type": "execute_result"
    }
   ],
   "source": [
    "import webbrowser\n",
    "\n",
    "# generate an URL\n",
    "url = 'https://' + 'www.google.com'\n",
    "webbrowser.open(url)"
   ]
  },
  {
   "cell_type": "code",
   "execution_count": 4,
   "metadata": {},
   "outputs": [
    {
     "data": {
      "text/html": [
       "<a href='./figure.html' target='_blank'>./figure.html</a><br>"
      ],
      "text/plain": [
       "D:\\ManuWork\\python\\SciScript-Python-plotly\\figure.html"
      ]
     },
     "execution_count": 4,
     "metadata": {},
     "output_type": "execute_result"
    }
   ],
   "source": [
    "from IPython.display import FileLink, FileLinks\n",
    "FileLink('./figure.html') #lists all downloadable files on server\n"
   ]
  },
  {
   "cell_type": "code",
   "execution_count": null,
   "metadata": {},
   "outputs": [],
   "source": []
  }
 ],
 "metadata": {
  "kernelspec": {
   "display_name": "Python 3",
   "language": "python",
   "name": "python3"
  },
  "language_info": {
   "codemirror_mode": {
    "name": "ipython",
    "version": 3
   },
   "file_extension": ".py",
   "mimetype": "text/x-python",
   "name": "python",
   "nbconvert_exporter": "python",
   "pygments_lexer": "ipython3",
   "version": "3.6.5"
  }
 },
 "nbformat": 4,
 "nbformat_minor": 2
}
