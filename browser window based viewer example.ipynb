{
 "cells": [
  {
   "cell_type": "code",
   "execution_count": 4,
   "metadata": {},
   "outputs": [],
   "source": [
    "import SpectrumViewer.mvcViewer as mvc\n",
    "\n",
    "fileName = 'SpectrumViewer/example_lite.fits'\n",
    "fileSource = 'SDSS'\n",
    "mvc.window_view(fileName,fileSource,other =True)"
   ]
  },
  {
   "cell_type": "code",
   "execution_count": 2,
   "metadata": {},
   "outputs": [
    {
     "name": "stdout",
     "output_type": "stream",
     "text": [
      "Help on function window_view in module SpectrumViewer.mvcViewer:\n",
      "\n",
      "window_view(filename, filesource, skyline=False, flux=True, model=True, emission=False, absorption=False, ae=False, other=False)\n",
      "    #Set the bool value to be true for those information you are interested:\n",
      "    #ae means absorption or emission line, other means undetermined line\n",
      "\n"
     ]
    }
   ],
   "source": [
    "help(mvc.window_view)"
   ]
  },
  {
   "cell_type": "code",
   "execution_count": 5,
   "metadata": {},
   "outputs": [
    {
     "data": {
      "text/plain": [
       "True"
      ]
     },
     "execution_count": 5,
     "metadata": {},
     "output_type": "execute_result"
    }
   ],
   "source": [
    "import webbrowser\n",
    "\n",
    "# generate an URL\n",
    "url = 'https://' + 'www.google.com'\n",
    "webbrowser.open(url)"
   ]
  },
  {
   "cell_type": "code",
   "execution_count": 10,
   "metadata": {},
   "outputs": [
    {
     "data": {
      "text/html": [
       "<a href='./figure.html' target='_blank'>./figure.html</a><br>"
      ],
      "text/plain": [
       "/home/david/Developer/SciScript-Python/figure.html"
      ]
     },
     "execution_count": 10,
     "metadata": {},
     "output_type": "execute_result"
    }
   ],
   "source": [
    "from IPython.display import FileLink, FileLinks\n",
    "FileLink('./figure.html') #lists all downloadable files on server\n"
   ]
  },
  {
   "cell_type": "code",
   "execution_count": null,
   "metadata": {},
   "outputs": [],
   "source": []
  }
 ],
 "metadata": {
  "kernelspec": {
   "display_name": "Python 3",
   "language": "python",
   "name": "python3"
  },
  "language_info": {
   "codemirror_mode": {
    "name": "ipython",
    "version": 3
   },
   "file_extension": ".py",
   "mimetype": "text/x-python",
   "name": "python",
   "nbconvert_exporter": "python",
   "pygments_lexer": "ipython3",
   "version": "3.5.5"
  }
 },
 "nbformat": 4,
 "nbformat_minor": 2
}
