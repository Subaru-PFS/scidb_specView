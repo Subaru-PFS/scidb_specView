{
 "cells": [
  {
   "cell_type": "code",
   "execution_count": 1,
   "metadata": {},
   "outputs": [],
   "source": [
    "import SpectrumViewer.mvcViewer as mvc\n",
    "from SpectrumViewer.data_models import Stream2D\n",
    "import numpy as np\n",
    "from astropy.io import fits"
   ]
  },
  {
   "cell_type": "markdown",
   "metadata": {},
   "source": [
    "### Load spectrum"
   ]
  },
  {
   "cell_type": "code",
   "execution_count": 2,
   "metadata": {},
   "outputs": [],
   "source": [
    "fits_file = './fits/example_lite.fits'\n",
    "hdulist = fits.open(fits_file)\n",
    "wavelength = np.power(10, hdulist[1].data['loglam'])\n",
    "flux = hdulist[1].data['flux']\n",
    "redshift = hdulist[2].data['z']"
   ]
  },
  {
   "cell_type": "markdown",
   "metadata": {},
   "source": [
    "### Add spectrum and spectral lines grid and plot them"
   ]
  },
  {
   "cell_type": "code",
   "execution_count": 6,
   "metadata": {},
   "outputs": [
    {
     "data": {
      "application/vnd.jupyter.widget-view+json": {
       "model_id": "e1bfe38b78e146e69929d9ac827b62e1",
       "version_major": 2,
       "version_minor": 0
      },
      "text/plain": [
       "Canvas(toolbar=Toolbar(toolitems=[('Home', 'Reset original view', 'home', 'home'), ('Back', 'Back to previous …"
      ]
     },
     "metadata": {},
     "output_type": "display_data"
    }
   ],
   "source": [
    "%matplotlib widget\n",
    "viewer = mvc.MvcViewer()\n",
    "stream = Stream2D(wavelength, flux, name=\"spectrum\", color=\"black\", linewidth=1, alpha=1)\n",
    "viewer.add_stream2d(stream)\n",
    "viewer.add_spectral_lines_grid(spectral_lines_grid_name=\"specLines\", redshift = redshift, color=\"red\", linewidth=1, alpha=0.1)\n",
    "viewer.plot()"
   ]
  },
  {
   "cell_type": "markdown",
   "metadata": {},
   "source": [
    "### Add callback for data bounded by a user-defined rectangle on the figure. All bounded data is stored in the 'rectangle_data' variable"
   ]
  },
  {
   "cell_type": "code",
   "execution_count": 7,
   "metadata": {},
   "outputs": [],
   "source": [
    "rectangle_data = None\n",
    "def callback(rectangle_boundaries):\n",
    "    global rectangle_data\n",
    "    rectangle_data = viewer.get_data_within_rectangle(rectangle_boundaries)\n",
    "\n",
    "viewer.add_rectangle_select_callback(callback)"
   ]
  },
  {
   "cell_type": "markdown",
   "metadata": {},
   "source": [
    "### Now you sould be able to click on the image, move the mouse, and then release the mouse button. That defines a red rectangle (To remove the rectangle, press 'escape')"
   ]
  },
  {
   "cell_type": "markdown",
   "metadata": {},
   "source": [
    "### This next cell will overplot the selected data on the figure as a new green-colored stream"
   ]
  },
  {
   "cell_type": "code",
   "execution_count": 9,
   "metadata": {},
   "outputs": [],
   "source": [
    "new_spectrum = rectangle_data['spectrum']\n",
    "new_spectrum.color = \"green\"\n",
    "new_spectrum.name = \"new_spectrum\"\n",
    "viewer.add_stream2d(new_spectrum, replace=True)\n",
    "viewer.plot()"
   ]
  },
  {
   "cell_type": "code",
   "execution_count": null,
   "metadata": {},
   "outputs": [],
   "source": []
  }
 ],
 "metadata": {
  "kernelspec": {
   "display_name": "Python 3",
   "language": "python",
   "name": "python3"
  },
  "language_info": {
   "codemirror_mode": {
    "name": "ipython",
    "version": 3
   },
   "file_extension": ".py",
   "mimetype": "text/x-python",
   "name": "python",
   "nbconvert_exporter": "python",
   "pygments_lexer": "ipython3",
   "version": "3.7.3"
  }
 },
 "nbformat": 4,
 "nbformat_minor": 4
}
