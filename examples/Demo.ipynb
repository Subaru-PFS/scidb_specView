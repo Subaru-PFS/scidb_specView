{
 "cells": [
  {
   "cell_type": "code",
   "execution_count": null,
   "metadata": {},
   "outputs": [],
   "source": [
    "import SpectrumViewer.mvcViewer as mvc\n",
    "from SpectrumViewer.data_models import Spectrum\n",
    "import numpy as np\n",
    "from astropy.io import fits"
   ]
  },
  {
   "cell_type": "markdown",
   "metadata": {},
   "source": [
    "### Load spectrum"
   ]
  },
  {
   "cell_type": "code",
   "execution_count": null,
   "metadata": {},
   "outputs": [],
   "source": [
    "fits_file = './fits/example_lite.fits'\n",
    "hdulist = fits.open(fits_file)\n",
    "wavelength = np.power(10, hdulist[1].data['loglam'])\n",
    "flux = hdulist[1].data['flux']\n",
    "redshift = hdulist[2].data['z']"
   ]
  },
  {
   "cell_type": "markdown",
   "metadata": {},
   "source": [
    "### Defining a new spectrum object, adding it to the plot, adding a spectral lines grid,  and then plotting them"
   ]
  },
  {
   "cell_type": "code",
   "execution_count": null,
   "metadata": {},
   "outputs": [],
   "source": [
    "%matplotlib widget\n",
    "viewer = mvc.MvcViewer()\n",
    "stream = Spectrum(wavelength, flux, name=\"spectrum\", color=\"black\", linewidth=1, alpha=1)\n",
    "viewer.add_spectrum(stream)\n",
    "viewer.add_spectral_lines_grid(spectral_lines_grid_name=\"specLines\", redshift = redshift, color=\"red\", linewidth=1, alpha=0.1)\n",
    "viewer.plot()"
   ]
  },
  {
   "cell_type": "markdown",
   "metadata": {},
   "source": [
    "### Add callback for data bounded by a user-defined rectangle on the figure. All bounded data is stored in the 'rectangle_data' variable"
   ]
  },
  {
   "cell_type": "code",
   "execution_count": null,
   "metadata": {},
   "outputs": [],
   "source": [
    "rectangle_data = None\n",
    "def callback(rectangle_boundaries):\n",
    "    global rectangle_data\n",
    "    rectangle_data = viewer.get_data_within_rectangle(rectangle_boundaries)\n",
    "\n",
    "viewer.add_rectangle_select_callback(callback)"
   ]
  },
  {
   "cell_type": "markdown",
   "metadata": {},
   "source": [
    "### Now you sould be able to click on the image, move the mouse, and then release the mouse button. That defines a rectangle (To remove the rectangle, press 'escape')"
   ]
  },
  {
   "cell_type": "markdown",
   "metadata": {},
   "source": [
    "### The 'rectangle_data' object will turn into a dictionary containing, for each plotted stream, the data bounded within the rectangle."
   ]
  },
  {
   "cell_type": "markdown",
   "metadata": {},
   "source": [
    "### This next cell will overplot the selected data on the figure as a new green-colored stream"
   ]
  },
  {
   "cell_type": "code",
   "execution_count": null,
   "metadata": {},
   "outputs": [],
   "source": [
    "if rectangle_data is not None:\n",
    "    new_spectrum = rectangle_data['spectrum'] # gets the data from the plotted spectrum whithin the bounds of the rectangle\n",
    "    new_spectrum.color = \"green\"\n",
    "    new_spectrum.name = \"new_spectrum\"\n",
    "    viewer.add_spectrum(new_spectrum, replace=True)\n",
    "    viewer.plot()\n",
    "else:\n",
    "    print('No rectangle defined')"
   ]
  },
  {
   "cell_type": "code",
   "execution_count": null,
   "metadata": {},
   "outputs": [],
   "source": []
  },
  {
   "cell_type": "code",
   "execution_count": null,
   "metadata": {},
   "outputs": [],
   "source": []
  },
  {
   "cell_type": "code",
   "execution_count": null,
   "metadata": {},
   "outputs": [],
   "source": []
  }
 ],
 "metadata": {
  "kernelspec": {
   "display_name": "Python 3",
   "language": "python",
   "name": "python3"
  },
  "language_info": {
   "codemirror_mode": {
    "name": "ipython",
    "version": 3
   },
   "file_extension": ".py",
   "mimetype": "text/x-python",
   "name": "python",
   "nbconvert_exporter": "python",
   "pygments_lexer": "ipython3",
   "version": "3.7.3"
  }
 },
 "nbformat": 4,
 "nbformat_minor": 4
}
