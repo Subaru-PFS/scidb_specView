{
 "cells": [
  {
   "cell_type": "code",
   "execution_count": 1,
   "metadata": {},
   "outputs": [
    {
     "name": "stdout",
     "output_type": "stream",
     "text": [
      "{'the': 9, 'quick': 8, 'brown': 1, 'fox': 4, 'jumped': 5, 'over': 7, 'lazy': 6, 'dog': 2, 'foo': 3, 'blue': 0}\n",
      "[1.69314718 1.69314718 1.28768207 1.69314718 1.28768207 1.69314718\n",
      " 1.69314718 1.69314718 1.69314718 1.        ]\n",
      "(1, 10)\n",
      "[[0.         0.34195062 0.26006226 0.34195062 0.26006226 0.34195062\n",
      "  0.34195062 0.34195062 0.34195062 0.40392309]]\n"
     ]
    }
   ],
   "source": [
    "from sklearn.feature_extraction.text import TfidfVectorizer\n",
    "# list of text documents\n",
    "text = [\"The quick brown fox jumped over the lazy dog foo.\",\n",
    "\t\t\"The dog.\",\n",
    "\t\t\"The blue fox\"]\n",
    "# create the transform\n",
    "vectorizer = TfidfVectorizer()\n",
    "# tokenize and build vocab\n",
    "vectorizer.fit(text)\n",
    "# summarize\n",
    "print(vectorizer.vocabulary_)\n",
    "print(vectorizer.idf_)\n",
    "# encode document\n",
    "vec = vectorizer.transform([text[0]])\n",
    "# summarize encoded vector\n",
    "print(vec.shape)\n",
    "print(vec.toarray())"
   ]
  },
  {
   "cell_type": "code",
   "execution_count": 3,
   "metadata": {},
   "outputs": [
    {
     "name": "stdout",
     "output_type": "stream",
     "text": [
      "  (0, 9)\t0.4039230934743582\n",
      "  (0, 8)\t0.3419506234395804\n",
      "  (0, 7)\t0.3419506234395804\n",
      "  (0, 6)\t0.3419506234395804\n",
      "  (0, 5)\t0.3419506234395804\n",
      "  (0, 4)\t0.26006226305809793\n",
      "  (0, 3)\t0.3419506234395804\n",
      "  (0, 2)\t0.26006226305809793\n",
      "  (0, 1)\t0.3419506234395804\n"
     ]
    }
   ],
   "source": [
    "print(vec)"
   ]
  },
  {
   "cell_type": "code",
   "execution_count": 4,
   "metadata": {},
   "outputs": [],
   "source": [
    "matrix  = vectorizer.fit_transform(text)"
   ]
  },
  {
   "cell_type": "code",
   "execution_count": 5,
   "metadata": {},
   "outputs": [
    {
     "name": "stdout",
     "output_type": "stream",
     "text": [
      "[[0.         0.34195062 0.26006226 0.34195062 0.26006226 0.34195062\n",
      "  0.34195062 0.34195062 0.34195062 0.40392309]\n",
      " [0.         0.         0.78980693 0.         0.         0.\n",
      "  0.         0.         0.         0.61335554]\n",
      " [0.72033345 0.         0.         0.         0.54783215 0.\n",
      "  0.         0.         0.         0.42544054]]\n"
     ]
    }
   ],
   "source": [
    "print(matrix.toarray())"
   ]
  },
  {
   "cell_type": "code",
   "execution_count": null,
   "metadata": {},
   "outputs": [],
   "source": []
  },
  {
   "cell_type": "code",
   "execution_count": 43,
   "metadata": {},
   "outputs": [],
   "source": [
    "from sklearn.feature_extraction.text import TfidfVectorizer\n",
    "corpus = [\" The quick brown fox jumped over the lazy dog foo. \",\" The blue dog. \",\" The fox \"]\n",
    "\n",
    "corpus_string = \" \".join([text for text in corpus])"
   ]
  },
  {
   "cell_type": "code",
   "execution_count": 41,
   "metadata": {},
   "outputs": [],
   "source": [
    "vectorizer = TfidfVectorizer()"
   ]
  },
  {
   "cell_type": "code",
   "execution_count": 42,
   "metadata": {},
   "outputs": [],
   "source": [
    "matrix  = vectorizer.fit_transform(corpus)"
   ]
  },
  {
   "cell_type": "code",
   "execution_count": 39,
   "metadata": {},
   "outputs": [
    {
     "data": {
      "text/plain": [
       "array([[0.        , 0.34195062, 0.26006226, 0.34195062, 0.26006226,\n",
       "        0.34195062, 0.34195062, 0.34195062, 0.34195062, 0.40392309],\n",
       "       [0.72033345, 0.        , 0.54783215, 0.        , 0.        ,\n",
       "        0.        , 0.        , 0.        , 0.        , 0.42544054],\n",
       "       [0.        , 0.        , 0.        , 0.        , 0.78980693,\n",
       "        0.        , 0.        , 0.        , 0.        , 0.61335554]])"
      ]
     },
     "execution_count": 39,
     "metadata": {},
     "output_type": "execute_result"
    }
   ],
   "source": [
    "matrix.toarray()"
   ]
  },
  {
   "cell_type": "code",
   "execution_count": 8,
   "metadata": {},
   "outputs": [
    {
     "name": "stdout",
     "output_type": "stream",
     "text": [
      "{'the': 9, 'quick': 8, 'brown': 1, 'fox': 4, 'jumped': 5, 'over': 7, 'lazy': 6, 'dog': 2, 'foo': 3, 'blue': 0}\n",
      "[1.69314718 1.69314718 1.28768207 1.69314718 1.28768207 1.69314718\n",
      " 1.69314718 1.69314718 1.69314718 1.        ]\n"
     ]
    }
   ],
   "source": [
    "print(vectorizer.vocabulary_)\n",
    "print(vectorizer.idf_)"
   ]
  },
  {
   "cell_type": "code",
   "execution_count": 68,
   "metadata": {},
   "outputs": [
    {
     "name": "stdout",
     "output_type": "stream",
     "text": [
      "[[0.34288371 0.34288371 0.2607719  0.34288371 0.2607719  0.34288371\n",
      "  0.34288371 0.34288371 0.34288371 0.20251264]\n",
      " [0.         0.         1.         0.         0.         0.\n",
      "  0.         0.         0.         0.        ]\n",
      " [0.         0.         0.         0.         1.         0.\n",
      "  0.         0.         0.         0.        ]\n",
      " [0.         0.         0.70710678 0.         0.70710678 0.\n",
      "  0.         0.         0.         0.        ]\n",
      " [0.24106232 0.24106232 0.36666821 0.24106232 0.36666821 0.24106232\n",
      "  0.24106232 0.24106232 0.24106232 0.56950115]]\n"
     ]
    }
   ],
   "source": [
    "vec = vectorizer.transform([ \" \".join([ key for key in vectorizer.vocabulary_.keys()]),  \"dog\",\"fox\",\"dog fox\",corpus_string])\n",
    "vec1 = vectorizer.transform([ \" \".join([ key for key in vectorizer.vocabulary_.keys()])])\n",
    "vec2 = vectorizer.transform([\"dogfox\"])\n",
    "# summarize encoded vector\n",
    "print(vec.toarray())"
   ]
  },
  {
   "cell_type": "code",
   "execution_count": 14,
   "metadata": {},
   "outputs": [
    {
     "data": {
      "text/plain": [
       "<3x10 sparse matrix of type '<class 'numpy.float64'>'\n",
       "\twith 14 stored elements in Compressed Sparse Row format>"
      ]
     },
     "execution_count": 14,
     "metadata": {},
     "output_type": "execute_result"
    }
   ],
   "source": []
  },
  {
   "cell_type": "code",
   "execution_count": 37,
   "metadata": {},
   "outputs": [
    {
     "data": {
      "text/plain": [
       "'the the the  quick quick quick  brown brown brown  fox fox fox  jumped jumped jumped  over over over  lazy lazy lazy  dog dog dog  foo foo foo  blue blue blue '"
      ]
     },
     "execution_count": 37,
     "metadata": {},
     "output_type": "execute_result"
    }
   ],
   "source": [
    "\" \".join([ (key + \" \")*3 for key in vectorizer.vocabulary_.keys()])"
   ]
  },
  {
   "cell_type": "code",
   "execution_count": 46,
   "metadata": {},
   "outputs": [],
   "source": [
    "import numpy as np"
   ]
  },
  {
   "cell_type": "code",
   "execution_count": 55,
   "metadata": {},
   "outputs": [
    {
     "data": {
      "text/plain": [
       "scipy.sparse.csr.csr_matrix"
      ]
     },
     "execution_count": 55,
     "metadata": {},
     "output_type": "execute_result"
    }
   ],
   "source": [
    "type(vec1)\n",
    "#print(vec2.toarray())\n"
   ]
  },
  {
   "cell_type": "code",
   "execution_count": 69,
   "metadata": {},
   "outputs": [
    {
     "data": {
      "text/plain": [
       "0.0"
      ]
     },
     "execution_count": 69,
     "metadata": {},
     "output_type": "execute_result"
    }
   ],
   "source": [
    "float(vec1.dot(vec2.transpose()).toarray()[0])"
   ]
  },
  {
   "cell_type": "code",
   "execution_count": null,
   "metadata": {},
   "outputs": [],
   "source": []
  },
  {
   "cell_type": "code",
   "execution_count": null,
   "metadata": {},
   "outputs": [],
   "source": []
  },
  {
   "cell_type": "code",
   "execution_count": 14,
   "metadata": {},
   "outputs": [],
   "source": [
    "from sklearn.feature_extraction import DictVectorizer\n",
    "v = DictVectorizer(sparse=True)\n",
    "D = [{'foo': 1, 'bar': 2}, {'foo': 3, 'baz': 1}]\n",
    "X = v.fit_transform(D)\n",
    "\n"
   ]
  },
  {
   "cell_type": "code",
   "execution_count": 16,
   "metadata": {},
   "outputs": [
    {
     "data": {
      "text/plain": [
       "array([[2., 0., 1.],\n",
       "       [0., 1., 3.]])"
      ]
     },
     "execution_count": 16,
     "metadata": {},
     "output_type": "execute_result"
    }
   ],
   "source": [
    "X.toarray()\n"
   ]
  },
  {
   "cell_type": "code",
   "execution_count": 18,
   "metadata": {},
   "outputs": [
    {
     "data": {
      "text/plain": [
       "['bar', 'baz', 'foo']"
      ]
     },
     "execution_count": 18,
     "metadata": {},
     "output_type": "execute_result"
    }
   ],
   "source": [
    "v.feature_names_"
   ]
  },
  {
   "cell_type": "code",
   "execution_count": 17,
   "metadata": {},
   "outputs": [
    {
     "data": {
      "text/plain": [
       "True"
      ]
     },
     "execution_count": 17,
     "metadata": {},
     "output_type": "execute_result"
    }
   ],
   "source": [
    "v.inverse_transform(X) ==         [{'bar': 2.0, 'foo': 1.0}, {'baz': 1.0, 'foo': 3.0}]"
   ]
  },
  {
   "cell_type": "code",
   "execution_count": 9,
   "metadata": {},
   "outputs": [
    {
     "data": {
      "text/plain": [
       "array([[0., 0., 4.]])"
      ]
     },
     "execution_count": 9,
     "metadata": {},
     "output_type": "execute_result"
    }
   ],
   "source": [
    "v.transform({'foo': 4, 'unseen_feature': 3})"
   ]
  },
  {
   "cell_type": "code",
   "execution_count": null,
   "metadata": {},
   "outputs": [],
   "source": []
  }
 ],
 "metadata": {
  "kernelspec": {
   "display_name": "Python 3",
   "language": "python",
   "name": "python3"
  },
  "language_info": {
   "codemirror_mode": {
    "name": "ipython",
    "version": 3
   },
   "file_extension": ".py",
   "mimetype": "text/x-python",
   "name": "python",
   "nbconvert_exporter": "python",
   "pygments_lexer": "ipython3",
   "version": "3.6.5"
  }
 },
 "nbformat": 4,
 "nbformat_minor": 2
}
